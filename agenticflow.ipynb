{
 "cells": [
  {
   "cell_type": "code",
   "execution_count": 1,
   "metadata": {},
   "outputs": [],
   "source": [
    "import pickle\n",
    "\n",
    "student_data = pickle.load(open('sample/samplepdf.pickle', 'rb'))"
   ]
  },
  {
   "cell_type": "code",
   "execution_count": null,
   "metadata": {},
   "outputs": [],
   "source": [
    "print(student_data.text_annotations[0].description)"
   ]
  },
  {
   "cell_type": "code",
   "execution_count": 3,
   "metadata": {},
   "outputs": [
    {
     "name": "stdout",
     "output_type": "stream",
     "text": [
      "Removing existing database\n",
      "Database created successfully\n"
     ]
    }
   ],
   "source": [
    "from agents.db_agent import DatabaseAgent\n",
    "\n",
    "uni_name = 'NorthUmbria'\n",
    "dba = DatabaseAgent(uni_name=uni_name, db_overwrite=True)"
   ]
  },
  {
   "cell_type": "code",
   "execution_count": 4,
   "metadata": {},
   "outputs": [
    {
     "data": {
      "text/plain": [
       "('Northumbria', 'https://london.northumbria.ac.uk/')"
      ]
     },
     "execution_count": 4,
     "metadata": {},
     "output_type": "execute_result"
    }
   ],
   "source": [
    "uni_name, uni_id = dba.university_data_store.name, dba.university_data_store.website\n",
    "uni_name, uni_id"
   ]
  },
  {
   "cell_type": "code",
   "execution_count": 5,
   "metadata": {},
   "outputs": [
    {
     "name": "stdout",
     "output_type": "stream",
     "text": [
      "University added successfully\n"
     ]
    }
   ],
   "source": [
    "dba.add_university(uni_name)"
   ]
  },
  {
   "cell_type": "code",
   "execution_count": 6,
   "metadata": {},
   "outputs": [
    {
     "name": "stdout",
     "output_type": "stream",
     "text": [
      "Adding course:  MSc Web and Mobile Development Technologies (Part-Time)\n",
      "Adding course to UniversityCourse table\n",
      "Course added successfully\n",
      "Adding course:  BSc (Hons) International Tourism, Hospitality and Events (Top-Up)\n",
      "Adding course to UniversityCourse table\n",
      "Course added successfully\n",
      "Adding course:  International Year One Business\n",
      "Adding course to UniversityCourse table\n",
      "Course added successfully\n",
      "Adding course:  BSc (Hons) Global Business Management (Marketing) (Top-Up)\n",
      "Adding course to UniversityCourse table\n",
      "Course added successfully\n",
      "Adding course:  MSc Cyber Security (with Advanced Practice)\n",
      "Adding course to UniversityCourse table\n",
      "Course added successfully\n",
      "Adding course:  BSc (Hons) International Banking and Finance (Top-Up)\n",
      "Adding course to UniversityCourse table\n",
      "Course added successfully\n",
      "Adding course:  BSc (Hons) Computing with Artificial Intelligence Technology\n",
      "Adding course to UniversityCourse table\n",
      "Course added successfully\n",
      "Adding course:  Graduate Certificate in Business\n",
      "Adding course to UniversityCourse table\n",
      "Course added successfully\n",
      "Adding course:  MSc Business with Hospitality and Tourism Management (with Advanced Practice)\n",
      "Adding course to UniversityCourse table\n",
      "Course added successfully\n",
      "Adding course:  BSc (Hons) Computing with Cyber Security Technology\n",
      "Adding course to UniversityCourse table\n",
      "Course added successfully\n",
      "Adding course:  MSc International Project Management (with Advanced Practice)\n",
      "Adding course to UniversityCourse table\n",
      "Course added successfully\n",
      "Adding course:  MSc Artificial Intelligence Technology (with Advanced Practice)\n",
      "Adding course to UniversityCourse table\n",
      "Course added successfully\n",
      "Adding course:  MSc Business with Financial Management (with Advanced Practice)\n",
      "Adding course to UniversityCourse table\n",
      "Course added successfully\n",
      "Adding course:  MSc Global Logistics Operations and Supply Chain Management (with Advanced Practice)\n",
      "Adding course to UniversityCourse table\n",
      "Course added successfully\n",
      "Adding course:  MSc Business with International Management (Online)\n",
      "Adding course to UniversityCourse table\n",
      "Course added successfully\n",
      "Adding course:  MSc Business with Business Analytics (with Advanced Practice)\n",
      "Adding course to UniversityCourse table\n",
      "Course added successfully\n",
      "Adding course:  MSc Cyber Security Technology (Part-Time)\n",
      "Adding course to UniversityCourse table\n",
      "Course added successfully\n",
      "Adding course:  Graduate Certificate in Computing and Technology\n",
      "Adding course to UniversityCourse table\n",
      "Course added successfully\n",
      "Adding course:  MSc Digital Marketing (with Advanced Practice)\n",
      "Adding course to UniversityCourse table\n",
      "Course added successfully\n",
      "Adding course:  MA Luxury Brand Management (with Advanced Practice)\n",
      "Adding course to UniversityCourse table\n",
      "Course added successfully\n",
      "Adding course:  MSc Strategic Leadership (Part-Time)\n",
      "Adding course to UniversityCourse table\n",
      "Course added successfully\n",
      "Adding course:  BSc (Hons) Computing with Data Science and Big Data Technology\n",
      "Adding course to UniversityCourse table\n",
      "Course added successfully\n",
      "Adding course:  MSc Business with Entrepreneurship (with Advanced Practice)\n",
      "Adding course to UniversityCourse table\n",
      "Course added successfully\n",
      "Adding course:  MSc Business with International Management (with Advanced Practice)\n",
      "Adding course to UniversityCourse table\n",
      "Course added successfully\n",
      "Adding course:  BSc (Hons) Global Business Management (Top-Up)\n",
      "Adding course to UniversityCourse table\n",
      "Course added successfully\n",
      "Adding course:  MSc Web and Mobile Development Technologies\n",
      "Adding course to UniversityCourse table\n",
      "Course added successfully\n",
      "Adding course:  MSc Business with Human Resource Management (with Advanced Practice)\n",
      "Adding course to UniversityCourse table\n",
      "Course added successfully\n",
      "Adding course:  BA (Hons) Business Enterprise, Creation and Management (Online)\n",
      "Adding course to UniversityCourse table\n",
      "Course added successfully\n",
      "Adding course:  BSc (Hons) Computing with Technology\n",
      "Adding course to UniversityCourse table\n",
      "Course added successfully\n",
      "Adding course:  MSc Computing and Technology (Part-Time)\n",
      "Adding course to UniversityCourse table\n",
      "Course added successfully\n",
      "Adding course:  MSc Business with International Management (Part-Time)\n",
      "Adding course to UniversityCourse table\n",
      "Course added successfully\n",
      "Adding course:  Pre-Sessional English and Study Skills\n",
      "Adding course to UniversityCourse table\n",
      "Course added successfully\n",
      "Adding course:  MSc Programme and Project Management (Part-Time)\n",
      "Adding course to UniversityCourse table\n",
      "Course added successfully\n",
      "Adding course:  MSc Business with Marketing Management (with Advanced Practice)\n",
      "Adding course to UniversityCourse table\n",
      "Course added successfully\n",
      "Adding course:  MSc Cyber Security Technology (with Advanced Practice)\n",
      "Adding course to UniversityCourse table\n",
      "Course added successfully\n",
      "Adding course:  BSc (Hons) Accounting and Finance (Top-Up)\n",
      "Adding course to UniversityCourse table\n",
      "Course added successfully\n",
      "Adding course:  MSc Cyber Security (Part-Time)\n",
      "Adding course to UniversityCourse table\n",
      "Course added successfully\n",
      "Adding course:  MA/MSc Innovation and Creative Strategy\n",
      "Adding course to UniversityCourse table\n",
      "Course added successfully\n",
      "Adding course:  MSc Big Data and Data Science Technology (with Advanced Practice)\n",
      "Adding course to UniversityCourse table\n",
      "Course added successfully\n",
      "Adding course:  BSc (Hons) Computing with Information Technology Management\n",
      "Adding course to UniversityCourse table\n",
      "Course added successfully\n",
      "Adding course:  BSc (Hons) Global Business Management (Human Resources) (Top-Up)\n",
      "Adding course to UniversityCourse table\n",
      "Course added successfully\n",
      "Adding course:  MSc Information Security Management (Part-Time)\n",
      "Adding course to UniversityCourse table\n",
      "Course added successfully\n",
      "Adding course:  BSc (Hons) Business Enterprise and Innovation Management (Top-Up)\n",
      "Adding course to UniversityCourse table\n",
      "Course added successfully\n",
      "Adding course:  MSc Computing and Technology (with Advanced Practice)\n",
      "Adding course to UniversityCourse table\n",
      "Course added successfully\n",
      "Adding course:  BSc (Hons) Global Business Management (Logistics and Supply Chain) (Top-Up)\n",
      "Adding course to UniversityCourse table\n",
      "Course added successfully\n",
      "Courses added successfully\n"
     ]
    }
   ],
   "source": [
    "dba.add_university_courses()"
   ]
  },
  {
   "cell_type": "code",
   "execution_count": 7,
   "metadata": {},
   "outputs": [
    {
     "name": "stdout",
     "output_type": "stream",
     "text": [
      "Adding country:  Botswana\n",
      "Adding country to UniversityCountry table\n",
      "Country added successfully\n",
      "Adding country:  Cameroon\n",
      "Adding country to UniversityCountry table\n",
      "Country added successfully\n",
      "Adding country:  Egypt\n",
      "Adding country to UniversityCountry table\n",
      "Country added successfully\n",
      "Adding country:  Ethiopia\n",
      "Adding country to UniversityCountry table\n",
      "Country added successfully\n",
      "Adding country:  Ghana\n",
      "Adding country to UniversityCountry table\n",
      "Country added successfully\n",
      "Adding country:  Kenya\n",
      "Adding country to UniversityCountry table\n",
      "Country added successfully\n",
      "Adding country:  Liberia\n",
      "Adding country to UniversityCountry table\n",
      "Country added successfully\n",
      "Adding country:  Libya\n",
      "Adding country to UniversityCountry table\n",
      "Country added successfully\n",
      "Adding country:  Malawi\n",
      "Adding country to UniversityCountry table\n",
      "Country added successfully\n",
      "Adding country:  Mauritius\n",
      "Adding country to UniversityCountry table\n",
      "Country added successfully\n",
      "Adding country:  Morocco\n",
      "Adding country to UniversityCountry table\n",
      "Country added successfully\n",
      "Adding country:  Namibia\n",
      "Adding country to UniversityCountry table\n",
      "Country added successfully\n",
      "Adding country:  Nigeria\n",
      "Adding country to UniversityCountry table\n",
      "Country added successfully\n",
      "Adding country:  Rwanda\n",
      "Adding country to UniversityCountry table\n",
      "Country added successfully\n",
      "Adding country:  Sierra Leone\n",
      "Adding country to UniversityCountry table\n",
      "Country added successfully\n",
      "Adding country:  Somalia\n",
      "Adding country to UniversityCountry table\n",
      "Country added successfully\n",
      "Adding country:  South Africa\n",
      "Adding country to UniversityCountry table\n",
      "Country added successfully\n",
      "Adding country:  Tanzania\n",
      "Adding country to UniversityCountry table\n",
      "Country added successfully\n",
      "Adding country:  Uganda\n",
      "Adding country to UniversityCountry table\n",
      "Country added successfully\n",
      "Adding country:  Zambia\n",
      "Adding country to UniversityCountry table\n",
      "Country added successfully\n",
      "Adding country:  Zimbabwe\n",
      "Adding country to UniversityCountry table\n",
      "Country added successfully\n",
      "Adding country:  Bangladesh\n",
      "Adding country to UniversityCountry table\n",
      "Country added successfully\n",
      "Adding country:  Bhutan\n",
      "Adding country to UniversityCountry table\n",
      "Country added successfully\n",
      "Adding country:  Brunei\n",
      "Adding country to UniversityCountry table\n",
      "Country added successfully\n",
      "Adding country:  China (People’s Republic of)\n",
      "Adding country to UniversityCountry table\n",
      "Country added successfully\n",
      "Adding country:  Hong Kong\n",
      "Adding country to UniversityCountry table\n",
      "Country added successfully\n",
      "Adding country:  India\n",
      "Adding country to UniversityCountry table\n",
      "Country added successfully\n",
      "Adding country:  Indonesia\n",
      "Adding country to UniversityCountry table\n",
      "Country added successfully\n",
      "Adding country:  Japan\n",
      "Adding country to UniversityCountry table\n",
      "Country added successfully\n",
      "Adding country:  Kazakhstan\n",
      "Adding country to UniversityCountry table\n",
      "Country added successfully\n",
      "Adding country:  Macau\n",
      "Adding country to UniversityCountry table\n",
      "Country added successfully\n",
      "Adding country:  Malaysia\n",
      "Adding country to UniversityCountry table\n",
      "Country added successfully\n",
      "Adding country:  Maldives\n",
      "Adding country to UniversityCountry table\n",
      "Country added successfully\n",
      "Adding country:  Myanmar\n",
      "Adding country to UniversityCountry table\n",
      "Country added successfully\n",
      "Adding country:  Nepal\n",
      "Adding country to UniversityCountry table\n",
      "Country added successfully\n",
      "Adding country:  Pakistan\n",
      "Adding country to UniversityCountry table\n",
      "Country added successfully\n",
      "Adding country:  Philippines\n",
      "Adding country to UniversityCountry table\n",
      "Country added successfully\n",
      "Adding country:  Singapore\n",
      "Adding country to UniversityCountry table\n",
      "Country added successfully\n",
      "Adding country:  South Korea\n",
      "Adding country to UniversityCountry table\n",
      "Country added successfully\n",
      "Adding country:  Sri Lanka\n",
      "Adding country to UniversityCountry table\n",
      "Country added successfully\n",
      "Adding country:  Taiwan\n",
      "Adding country to UniversityCountry table\n",
      "Country added successfully\n",
      "Adding country:  Thailand\n",
      "Adding country to UniversityCountry table\n",
      "Country added successfully\n",
      "Adding country:  Vietnam\n",
      "Adding country to UniversityCountry table\n",
      "Country added successfully\n",
      "Adding country:  Australia\n",
      "Adding country to UniversityCountry table\n",
      "Country added successfully\n",
      "Adding country:  New Zealand\n",
      "Adding country to UniversityCountry table\n",
      "Country added successfully\n",
      "Adding country:  Jamaica\n",
      "Adding country to UniversityCountry table\n",
      "Country added successfully\n",
      "Adding country:  Belarus\n",
      "Adding country to UniversityCountry table\n",
      "Country added successfully\n",
      "Adding country:  Norway\n",
      "Adding country to UniversityCountry table\n",
      "Country added successfully\n",
      "Adding country:  Russia\n",
      "Adding country to UniversityCountry table\n",
      "Country added successfully\n",
      "Adding country:  Turkey\n",
      "Adding country to UniversityCountry table\n",
      "Country added successfully\n",
      "Adding country:  Ukraine\n",
      "Adding country to UniversityCountry table\n",
      "Country added successfully\n",
      "Adding country:  UK\n",
      "Adding country to UniversityCountry table\n",
      "Country added successfully\n",
      "Adding country:  Brazil\n",
      "Adding country to UniversityCountry table\n",
      "Country added successfully\n",
      "Adding country:  Colombia\n",
      "Adding country to UniversityCountry table\n",
      "Country added successfully\n",
      "Adding country:  El Salvador\n",
      "Adding country to UniversityCountry table\n",
      "Country added successfully\n",
      "Adding country:  Mexico\n",
      "Adding country to UniversityCountry table\n",
      "Country added successfully\n",
      "Adding country:  Peru\n",
      "Adding country to UniversityCountry table\n",
      "Country added successfully\n",
      "Adding country:  Venezuela\n",
      "Adding country to UniversityCountry table\n",
      "Country added successfully\n",
      "Adding country:  Bahrain\n",
      "Adding country to UniversityCountry table\n",
      "Country added successfully\n",
      "Adding country:  Iran\n",
      "Adding country to UniversityCountry table\n",
      "Country added successfully\n",
      "Adding country:  Iraq\n",
      "Adding country to UniversityCountry table\n",
      "Country added successfully\n",
      "Adding country:  Jordan\n",
      "Adding country to UniversityCountry table\n",
      "Country added successfully\n",
      "Adding country:  Kuwait\n",
      "Adding country to UniversityCountry table\n",
      "Country added successfully\n",
      "Adding country:  Lebanon\n",
      "Adding country to UniversityCountry table\n",
      "Country added successfully\n",
      "Adding country:  Oman\n",
      "Adding country to UniversityCountry table\n",
      "Country added successfully\n",
      "Adding country:  Palestine\n",
      "Adding country to UniversityCountry table\n",
      "Country added successfully\n",
      "Adding country:  Qatar\n",
      "Adding country to UniversityCountry table\n",
      "Country added successfully\n",
      "Adding country:  Saudi Arabia\n",
      "Adding country to UniversityCountry table\n",
      "Country added successfully\n",
      "Adding country:  United Arab Emirates\n",
      "Adding country to UniversityCountry table\n",
      "Country added successfully\n",
      "Adding country:  Canada\n",
      "Adding country to UniversityCountry table\n",
      "Country added successfully\n",
      "Adding country:  Puerto Rico\n",
      "Adding country to UniversityCountry table\n",
      "Country added successfully\n",
      "Adding country:  USA\n",
      "Adding country to UniversityCountry table\n",
      "Country added successfully\n",
      "Adding country:  Non-specific\n",
      "Adding country to UniversityCountry table\n",
      "Country added successfully\n",
      "Countries added successfully\n"
     ]
    }
   ],
   "source": [
    "dba.add_university_countries()"
   ]
  },
  {
   "cell_type": "code",
   "execution_count": 8,
   "metadata": {},
   "outputs": [
    {
     "name": "stdout",
     "output_type": "stream",
     "text": [
      "\n",
      "Academic entry requirements\n",
      "\n",
      "Minimum 2:2 undergraduate degree from a recognised university in a relevant field (IT/Computer Science/related field)\n",
      "Ideally some relevant IT/Developer experience\n",
      "\n",
      "Non-standard entry requirements\n",
      "\n",
      "3 years’ demonstrable IT, software or development experience and/or a professional qualification\n",
      "\n",
      "International entry equivalencies\n",
      "We accept a wide range of international qualifications. Please visit our entry requirements page for country-specific qualifications.\n",
      "Please note that if your qualifications are not in English, we might need certified translations in order to proceed with your application.\n",
      "Please note: we are not currently able to sponsor international students to study this programme. If you require sponsorship to study as an international student, this course will unfortunately be unavailable to you. For an alternative option, have a look at our full-time MSc Web and Mobile Development Technologies programme.\n",
      "Enquire now\n",
      "We accept a wide range of international qualifications. Please visit our entry requirements page for country-specific qualifications.\n",
      "Please note that if your qualifications are not in English, we might need certified translations in order to proceed with your application.\n",
      "Please note: we are not currently able to sponsor international students to study this programme. If you require sponsorship to study as an international student, this course will unfortunately be unavailable to you. For an alternative option, have a look at our full-time MSc Web and Mobile Development Technologies programme.\n",
      "Enquire now\n"
     ]
    }
   ],
   "source": [
    "course_name = list(dba.university_data_store.courses.keys())[0]\n",
    "print(dba.retrieve_course_details(course_name))"
   ]
  },
  {
   "cell_type": "code",
   "execution_count": 9,
   "metadata": {},
   "outputs": [
    {
     "name": "stdout",
     "output_type": "stream",
     "text": [
      "Botswana\n",
      "For entry to: Undergraduate Programmes , You will need: Diploma from University of Botswana , Grade required: Credit\n",
      "For entry to: Postgraduate Programmes , You will need: Masters Degree – in a relevant subject area (depending on programme applied for) , Grade required: Good\n",
      "For entry to: Graduate Certificate , You will need: Degree from the University of Botswana , Grade required: 2.1 or above\n",
      "For entry to: postgraduate diploma , You will need: B average / 2:1 , Grade required: 2.1 or above\n",
      "\n"
     ]
    }
   ],
   "source": [
    "country_name = list(dba.university_data_store.countries.keys())[0]\n",
    "print(country_name)\n",
    "print(dba.retrieve_country_details(country_name))"
   ]
  },
  {
   "cell_type": "code",
   "execution_count": 10,
   "metadata": {},
   "outputs": [],
   "source": [
    "email = 'giriprasad.bonda@gmail.com'\n",
    "first_name = 'Giri'\n",
    "last_name = 'Bonda'"
   ]
  },
  {
   "cell_type": "code",
   "execution_count": 11,
   "metadata": {},
   "outputs": [
    {
     "name": "stdout",
     "output_type": "stream",
     "text": [
      "Student added successfully\n"
     ]
    }
   ],
   "source": [
    "dba.db_manager.add_student(email, first_name, last_name, 'Botswana')"
   ]
  },
  {
   "cell_type": "code",
   "execution_count": 12,
   "metadata": {},
   "outputs": [
    {
     "data": {
      "text/plain": [
       "True"
      ]
     },
     "execution_count": 12,
     "metadata": {},
     "output_type": "execute_result"
    }
   ],
   "source": [
    "'India' in dba.university_data_store.countries.keys()"
   ]
  },
  {
   "cell_type": "code",
   "execution_count": 13,
   "metadata": {},
   "outputs": [
    {
     "data": {
      "text/plain": [
       "('Giri', 'Bonda', 'Botswana')"
      ]
     },
     "execution_count": 13,
     "metadata": {},
     "output_type": "execute_result"
    }
   ],
   "source": [
    "dba.db_manager.retrieve_student(email)"
   ]
  },
  {
   "cell_type": "code",
   "execution_count": 14,
   "metadata": {},
   "outputs": [],
   "source": [
    "dba.db_manager.add_student_doc(email, student_data.text_annotations[0].description)"
   ]
  },
  {
   "cell_type": "code",
   "execution_count": 15,
   "metadata": {},
   "outputs": [
    {
     "data": {
      "text/plain": [
       "[(\"00 518501\\nBoard of Secondary Education\\nANDHRA PRADESH, INDIA\\nOF AND\\nसत्यमेव जयते\\nSECONDARY SCHOOL CERTIFICATE\\nREGULAR PC/38/37204/05 18501/4\\nCERTIFIED THAT BONDA GIRIPRASAD\\nFATHER NAME: BONDA SURYANARAYANA\\nMOTHER NAME: BONDA DEVI\\nBO bearing Roll No. 1538125511\\nbelonging to CHALAPATHI HIGH SCHOOL GAJUWAKA VSP, VISAKHAPATNAM-I Dist\\nhas appeared and PASSED SSC EXAMINATION held in MARCH 2015 with GPA 9.0\\nand\\nENGLISH\\nDATE OF BIRTH\\nas medium of instruction.\\n16/11/1999\\nONE SIX\\nNOVEMBER\\nONE NINE NINE NINE\\nTHE CANDIDATE SECURED THE FOLLOWING GRADES AND GRADE POINTS\\nGRADE POINTS\\nSUBJECT\\nGRADES\\nIn Figures\\nIn Words\\nFIRST LANGUAGE : ( TELUGU\\nTHIRD LANGUAGE : ENGLISH\\n)\\nMATHEMATICS\\n:\\nGOVERN OF AND\\n41\\n10\\n10\\nONE ZERO\\nA2\\n09\\nZERO NINE\\nA1\\n10\\nONE ZERO\\nGENERAL SCIENCE :\\nB1\\n08\\nZERO EIGHT\\nSOCIAL STUDIES\\nB1\\n08\\nZERO EIGHT\\nSECOND LANGUAGE: ( HINDI\\nA2\\n09\\nZERO NINE\\nसत्यमेव जय\\nGRADE POINTS TOTAL:\\n54\\nFIVE FOUR\\nLife Skills Education: GRADE SECURED: 'A'\\nMarks of Identification:\\nHead of Institution\\nwith School Stamp\\nA MOLE ON THE RIGHT HAND RING FINGER.\\n2 A MOLE OR THE RIGHT SIDE OF THE CHEEK.\\nDate of issue: 20 May, 2015\\n1. Life skills Education The Gre\\ndelivery of the certificate to\\n2. Any corrections in the certificat\\n3. Any unauthorised a\\nHead Master\\nChalapathi M. School\\nChaltanys Nagar, Old Gajuwaka,\\nVisakhapatnam-26\\nincorporated by the respective Head of the Institution before\\nentertained after one year from the date of issue.\\ncancellation of certificate\\n4. The Grades with asterisk Indicate e old grades secured in previous appearances\\n2015\\nSECRETARY\\nBOARD OF SECONDARY EDUCATION\\nA.P. HYDERABAD\",)]"
      ]
     },
     "execution_count": 15,
     "metadata": {},
     "output_type": "execute_result"
    }
   ],
   "source": [
    "dba.db_manager.retrieve_student_docs(email)"
   ]
  },
  {
   "cell_type": "code",
   "execution_count": 16,
   "metadata": {},
   "outputs": [
    {
     "name": "stdout",
     "output_type": "stream",
     "text": [
      "\n",
      "Given the below student qualification information and the requirements of a university for their programs for students of a specific country. \n",
      "Evaluate if the student meets all the criteria. \n",
      "\n",
      "Output format -\n",
      "1. Point of failure: Where the student does not meet criteria.\n",
      "2. Point of ambiguity: Ambiguous points where either data is absent or the criteria is not clear. Need human intervention.\n",
      "3. Points of communication: Need to get back to the student since data needed is not provided. here the data isnt ambiguous but isnt present at all.\n",
      "\n",
      "Here is the student qualification information -\n",
      "00 518501\n",
      "Board of Secondary Education\n",
      "ANDHRA PRADESH, INDIA\n",
      "OF AND\n",
      "सत्यमेव जयते\n",
      "SECONDARY SCHOOL CERTIFICATE\n",
      "REGULAR PC/38/37204/05 18501/4\n",
      "CERTIFIED THAT BONDA GIRIPRASAD\n",
      "FATHER NAME: BONDA SURYANARAYANA\n",
      "MOTHER NAME: BONDA DEVI\n",
      "BO bearing Roll No. 1538125511\n",
      "belonging to CHALAPATHI HIGH SCHOOL GAJUWAKA VSP, VISAKHAPATNAM-I Dist\n",
      "has appeared and PASSED SSC EXAMINATION held in MARCH 2015 with GPA 9.0\n",
      "and\n",
      "ENGLISH\n",
      "DATE OF BIRTH\n",
      "as medium of instruction.\n",
      "16/11/1999\n",
      "ONE SIX\n",
      "NOVEMBER\n",
      "ONE NINE NINE NINE\n",
      "THE CANDIDATE SECURED THE FOLLOWING GRADES AND GRADE POINTS\n",
      "GRADE POINTS\n",
      "SUBJECT\n",
      "GRADES\n",
      "In Figures\n",
      "In Words\n",
      "FIRST LANGUAGE : ( TELUGU\n",
      "THIRD LANGUAGE : ENGLISH\n",
      ")\n",
      "MATHEMATICS\n",
      ":\n",
      "GOVERN OF AND\n",
      "41\n",
      "10\n",
      "10\n",
      "ONE ZERO\n",
      "A2\n",
      "09\n",
      "ZERO NINE\n",
      "A1\n",
      "10\n",
      "ONE ZERO\n",
      "GENERAL SCIENCE :\n",
      "B1\n",
      "08\n",
      "ZERO EIGHT\n",
      "SOCIAL STUDIES\n",
      "B1\n",
      "08\n",
      "ZERO EIGHT\n",
      "SECOND LANGUAGE: ( HINDI\n",
      "A2\n",
      "09\n",
      "ZERO NINE\n",
      "सत्यमेव जय\n",
      "GRADE POINTS TOTAL:\n",
      "54\n",
      "FIVE FOUR\n",
      "Life Skills Education: GRADE SECURED: 'A'\n",
      "Marks of Identification:\n",
      "Head of Institution\n",
      "with School Stamp\n",
      "A MOLE ON THE RIGHT HAND RING FINGER.\n",
      "2 A MOLE OR THE RIGHT SIDE OF THE CHEEK.\n",
      "Date of issue: 20 May, 2015\n",
      "1. Life skills Education The Gre\n",
      "delivery of the certificate to\n",
      "2. Any corrections in the certificat\n",
      "3. Any unauthorised a\n",
      "Head Master\n",
      "Chalapathi M. School\n",
      "Chaltanys Nagar, Old Gajuwaka,\n",
      "Visakhapatnam-26\n",
      "incorporated by the respective Head of the Institution before\n",
      "entertained after one year from the date of issue.\n",
      "cancellation of certificate\n",
      "4. The Grades with asterisk Indicate e old grades secured in previous appearances\n",
      "2015\n",
      "SECRETARY\n",
      "BOARD OF SECONDARY EDUCATION\n",
      "A.P. HYDERABAD\n",
      "\n",
      "Here are the course requirements of the university -\n",
      "Course: MSc Web and Mobile Development Technologies (Part-Time)\n",
      "Academic entry requirements\n",
      "\n",
      "Minimum 2:2 undergraduate degree from a recognised university in a relevant field (IT/Computer Science/related field)\n",
      "Ideally some relevant IT/Developer experience\n",
      "\n",
      "Non-standard entry requirements\n",
      "\n",
      "3 years’ demonstrable IT, software or development experience and/or a professional qualification\n",
      "\n",
      "International entry equivalencies\n",
      "We accept a wide range of international qualifications. Please visit our entry requirements page for country-specific qualifications.\n",
      "Please note that if your qualifications are not in English, we might need certified translations in order to proceed with your application.\n",
      "Please note: we are not currently able to sponsor international students to study this programme. If you require sponsorship to study as an international student, this course will unfortunately be unavailable to you. For an alternative option, have a look at our full-time MSc Web and Mobile Development Technologies programme.\n",
      "Enquire now\n",
      "We accept a wide range of international qualifications. Please visit our entry requirements page for country-specific qualifications.\n",
      "Please note that if your qualifications are not in English, we might need certified translations in order to proceed with your application.\n",
      "Please note: we are not currently able to sponsor international students to study this programme. If you require sponsorship to study as an international student, this course will unfortunately be unavailable to you. For an alternative option, have a look at our full-time MSc Web and Mobile Development Technologies programme.\n",
      "Enquire now\n",
      "\n",
      "Here are the country requirements of the university -\n",
      "Country: Botswana\n",
      "For entry to: Undergraduate Programmes , You will need: Diploma from University of Botswana , Grade required: Credit\n",
      "For entry to: Postgraduate Programmes , You will need: Masters Degree – in a relevant subject area (depending on programme applied for) , Grade required: Good\n",
      "For entry to: Graduate Certificate , You will need: Degree from the University of Botswana , Grade required: 2.1 or above\n",
      "For entry to: postgraduate diploma , You will need: B average / 2:1 , Grade required: 2.1 or above\n",
      "\n",
      "\n"
     ]
    }
   ],
   "source": [
    "print(dba.generate_evaluation_prompt(email, course_name))"
   ]
  },
  {
   "cell_type": "code",
   "execution_count": null,
   "metadata": {},
   "outputs": [],
   "source": []
  }
 ],
 "metadata": {
  "kernelspec": {
   "display_name": "ML",
   "language": "python",
   "name": "python3"
  },
  "language_info": {
   "codemirror_mode": {
    "name": "ipython",
    "version": 3
   },
   "file_extension": ".py",
   "mimetype": "text/x-python",
   "name": "python",
   "nbconvert_exporter": "python",
   "pygments_lexer": "ipython3",
   "version": "3.10.14"
  }
 },
 "nbformat": 4,
 "nbformat_minor": 2
}
